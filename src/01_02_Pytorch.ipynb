{
 "cells": [
  {
   "cell_type": "markdown",
   "id": "c6329c0b",
   "metadata": {},
   "source": [
    "# Pytorch"
   ]
  },
  {
   "cell_type": "code",
   "execution_count": 3,
   "id": "e0435764",
   "metadata": {},
   "outputs": [
    {
     "data": {
      "text/plain": [
       "True"
      ]
     },
     "execution_count": 3,
     "metadata": {},
     "output_type": "execute_result"
    }
   ],
   "source": [
    "# 토치가 설치가 잘 됐는지 확인하는 법 Fals가 나오면 문제가 있는 것임.\n",
    "import torch\n",
    "\n",
    "torch.cuda.is_available()"
   ]
  },
  {
   "cell_type": "code",
   "execution_count": 4,
   "id": "ffd0adc4",
   "metadata": {},
   "outputs": [
    {
     "data": {
      "text/plain": [
       "'2.8.0+cu126'"
      ]
     },
     "execution_count": 4,
     "metadata": {},
     "output_type": "execute_result"
    }
   ],
   "source": [
    "# 토치 버전확인하는 법\n",
    "torch.__version__"
   ]
  },
  {
   "cell_type": "code",
   "execution_count": 5,
   "id": "c31e39d9",
   "metadata": {},
   "outputs": [
    {
     "data": {
      "text/plain": [
       "tensor(5)"
      ]
     },
     "execution_count": 5,
     "metadata": {},
     "output_type": "execute_result"
    }
   ],
   "source": [
    "torch.tensor(5)  # 숫자 5를 '텐서(Tensor)'라는 파이토치 자료형으로 바꿈"
   ]
  },
  {
   "cell_type": "code",
   "execution_count": 6,
   "id": "ec901072",
   "metadata": {},
   "outputs": [
    {
     "data": {
      "text/plain": [
       "tensor([1, 2, 3])"
      ]
     },
     "execution_count": 6,
     "metadata": {},
     "output_type": "execute_result"
    }
   ],
   "source": [
    "torch.tensor([1,2,3])  # 리스트 → PyTorch 텐서로 변환 (딥러닝 연산용)"
   ]
  },
  {
   "cell_type": "code",
   "execution_count": 7,
   "id": "3bfcd75e",
   "metadata": {},
   "outputs": [
    {
     "data": {
      "text/plain": [
       "tensor([[1, 2, 3],\n",
       "        [4, 5, 6]])"
      ]
     },
     "execution_count": 7,
     "metadata": {},
     "output_type": "execute_result"
    }
   ],
   "source": [
    "torch.tensor([[1,2,3],[4,5,6]])  # 2D 데이터 → 텐서 변환 (shape: 2x3, 행렬 형태)\n"
   ]
  },
  {
   "cell_type": "code",
   "execution_count": 8,
   "id": "e7b9efb4",
   "metadata": {},
   "outputs": [
    {
     "data": {
      "text/plain": [
       "tensor([1, 2, 3, 4, 5])"
      ]
     },
     "execution_count": 8,
     "metadata": {},
     "output_type": "execute_result"
    }
   ],
   "source": [
    "data = [1,2,3,4,5]   # 1차원 리스트\n",
    "torch.tensor(data)   # 리스트 → 1D 텐서 (shape: 5,)"
   ]
  },
  {
   "cell_type": "code",
   "execution_count": 9,
   "id": "9668028c",
   "metadata": {},
   "outputs": [
    {
     "data": {
      "text/plain": [
       "tensor([1, 2, 3, 4, 5])"
      ]
     },
     "execution_count": 9,
     "metadata": {},
     "output_type": "execute_result"
    }
   ],
   "source": [
    "import numpy as np\n",
    "\n",
    "data = np.array([1,2,3,4,5])   # 1차원 NumPy 배열 (shape: 5,)\n",
    "torch.tensor(data)   # NumPy 배열 → 1D 텐서 (shape: 5,)"
   ]
  },
  {
   "cell_type": "code",
   "execution_count": 10,
   "id": "6dd88971",
   "metadata": {},
   "outputs": [
    {
     "data": {
      "text/plain": [
       "tensor([1., 1., 1.])"
      ]
     },
     "execution_count": 10,
     "metadata": {},
     "output_type": "execute_result"
    }
   ],
   "source": [
    "torch.ones(3)   # 원소 3개, 모두 1.0인 1D 텐서 생성"
   ]
  },
  {
   "cell_type": "code",
   "execution_count": 11,
   "id": "4e6e7c41",
   "metadata": {},
   "outputs": [
    {
     "data": {
      "text/plain": [
       "tensor([[1., 1., 1., 1., 1.],\n",
       "        [1., 1., 1., 1., 1.],\n",
       "        [1., 1., 1., 1., 1.]])"
      ]
     },
     "execution_count": 11,
     "metadata": {},
     "output_type": "execute_result"
    }
   ],
   "source": [
    "torch.ones(3,5)  # 3행 5열, 모든 값이 1.0인 2D 텐서 생성"
   ]
  },
  {
   "cell_type": "code",
   "execution_count": 12,
   "id": "8ae9e7e5",
   "metadata": {},
   "outputs": [
    {
     "data": {
      "text/plain": [
       "tensor([[1., 1., 1.,  ..., 1., 1., 1.],\n",
       "        [1., 1., 1.,  ..., 1., 1., 1.],\n",
       "        [1., 1., 1.,  ..., 1., 1., 1.],\n",
       "        ...,\n",
       "        [1., 1., 1.,  ..., 1., 1., 1.],\n",
       "        [1., 1., 1.,  ..., 1., 1., 1.],\n",
       "        [1., 1., 1.,  ..., 1., 1., 1.]])"
      ]
     },
     "execution_count": 12,
     "metadata": {},
     "output_type": "execute_result"
    }
   ],
   "source": [
    "# 이미지 =  1: 흰색    0: 검정색\n",
    "\n",
    "torch.ones(512,512)  # 512행 512열, 모든 값이 1.0인 대형 2D 텐서 생성\n"
   ]
  },
  {
   "cell_type": "code",
   "execution_count": 13,
   "id": "678eb846",
   "metadata": {},
   "outputs": [
    {
     "data": {
      "text/plain": [
       "tensor([[0., 0., 0.,  ..., 0., 0., 0.],\n",
       "        [0., 0., 0.,  ..., 0., 0., 0.],\n",
       "        [0., 0., 0.,  ..., 0., 0., 0.],\n",
       "        ...,\n",
       "        [0., 0., 0.,  ..., 0., 0., 0.],\n",
       "        [0., 0., 0.,  ..., 0., 0., 0.],\n",
       "        [0., 0., 0.,  ..., 0., 0., 0.]])"
      ]
     },
     "execution_count": 13,
     "metadata": {},
     "output_type": "execute_result"
    }
   ],
   "source": [
    "# 색상: 검정색\n",
    "torch.zeros(512,512)  # 512행 512열, 모든 값이 1.0인 대형 2D 텐서 생성"
   ]
  },
  {
   "cell_type": "code",
   "execution_count": 14,
   "id": "efc962de",
   "metadata": {},
   "outputs": [
    {
     "data": {
      "text/plain": [
       "tensor([[1., 0., 0., 0., 0.],\n",
       "        [0., 1., 0., 0., 0.],\n",
       "        [0., 0., 1., 0., 0.],\n",
       "        [0., 0., 0., 1., 0.],\n",
       "        [0., 0., 0., 0., 1.]])"
      ]
     },
     "execution_count": 14,
     "metadata": {},
     "output_type": "execute_result"
    }
   ],
   "source": [
    "# 단위행렬\n",
    "torch.eye(5) # 5x5 크기, 대각선만 1이고 나머지는 0인 단위 행렬 생성"
   ]
  },
  {
   "cell_type": "code",
   "execution_count": 15,
   "id": "57030ab4",
   "metadata": {},
   "outputs": [
    {
     "data": {
      "text/plain": [
       "tensor([1, 2, 3, 4, 5, 6, 7, 8, 9])"
      ]
     },
     "execution_count": 15,
     "metadata": {},
     "output_type": "execute_result"
    }
   ],
   "source": [
    "# 시작이 1 끝이 9\n",
    "torch.arange(1,10) # 1부터 9까지 연속된 숫자(1D 텐서) 생성"
   ]
  },
  {
   "cell_type": "code",
   "execution_count": 16,
   "id": "aae24f3d",
   "metadata": {},
   "outputs": [
    {
     "data": {
      "text/plain": [
       "tensor([1, 3, 5, 7, 9])"
      ]
     },
     "execution_count": 16,
     "metadata": {},
     "output_type": "execute_result"
    }
   ],
   "source": [
    "# 시작이 1 끝이 9 간격은 2\n",
    "torch.arange(1,10,2) # 1부터 9까지 2씩 증가하는 1D 텐서 생성"
   ]
  },
  {
   "cell_type": "code",
   "execution_count": null,
   "id": "f9e47a8e",
   "metadata": {},
   "outputs": [
    {
     "data": {
      "text/plain": [
       "tensor([[[0.5387, 0.8932, 0.6182],\n",
       "         [0.6183, 0.6576, 0.0949],\n",
       "         [0.8510, 0.9923, 0.6272]],\n",
       "\n",
       "        [[0.8200, 0.5368, 0.9764],\n",
       "         [0.5019, 0.5362, 0.3209],\n",
       "         [0.9424, 0.6617, 0.4123]],\n",
       "\n",
       "        [[0.8307, 0.7699, 0.8107],\n",
       "         [0.2042, 0.6241, 0.0273],\n",
       "         [0.7602, 0.3549, 0.9588]]])"
      ]
     },
     "execution_count": 17,
     "metadata": {},
     "output_type": "execute_result"
    }
   ],
   "source": [
    "# 3열 3행 3줄 만들어라\n",
    "data = torch.rand(3,3,3) # 3x3x3 크기, 0~1 사이 난수로 채워진 3D 텐서 생성\n",
    "data"
   ]
  },
  {
   "cell_type": "code",
   "execution_count": 18,
   "id": "0f88f9ab",
   "metadata": {},
   "outputs": [
    {
     "data": {
      "text/plain": [
       "3"
      ]
     },
     "execution_count": 18,
     "metadata": {},
     "output_type": "execute_result"
    }
   ],
   "source": [
    "# 차원의 수를 확인할 수 있는 함수\n",
    "data.dim()"
   ]
  },
  {
   "cell_type": "code",
   "execution_count": 19,
   "id": "7f069ee8",
   "metadata": {},
   "outputs": [
    {
     "data": {
      "text/plain": [
       "tensor([[0.5387, 0.8932, 0.6182],\n",
       "        [0.6183, 0.6576, 0.0949],\n",
       "        [0.8510, 0.9923, 0.6272],\n",
       "        [0.8200, 0.5368, 0.9764],\n",
       "        [0.5019, 0.5362, 0.3209],\n",
       "        [0.9424, 0.6617, 0.4123],\n",
       "        [0.8307, 0.7699, 0.8107],\n",
       "        [0.2042, 0.6241, 0.0273],\n",
       "        [0.7602, 0.3549, 0.9588]])"
      ]
     },
     "execution_count": 19,
     "metadata": {},
     "output_type": "execute_result"
    }
   ],
   "source": [
    "# 3차원을 2차원으로 만들기\n",
    "data.view(9,3) # 9행 3열 짜리고 만들기"
   ]
  },
  {
   "cell_type": "code",
   "execution_count": 20,
   "id": "e51d5637",
   "metadata": {},
   "outputs": [
    {
     "data": {
      "text/plain": [
       "tensor([0.5387, 0.8932, 0.6182, 0.6183, 0.6576, 0.0949, 0.8510, 0.9923, 0.6272,\n",
       "        0.8200, 0.5368, 0.9764, 0.5019, 0.5362, 0.3209, 0.9424, 0.6617, 0.4123,\n",
       "        0.8307, 0.7699, 0.8107, 0.2042, 0.6241, 0.0273, 0.7602, 0.3549, 0.9588])"
      ]
     },
     "execution_count": 20,
     "metadata": {},
     "output_type": "execute_result"
    }
   ],
   "source": [
    "data.view(27)"
   ]
  },
  {
   "cell_type": "code",
   "execution_count": 21,
   "id": "0337040b",
   "metadata": {},
   "outputs": [
    {
     "data": {
      "text/plain": [
       "tensor([[0.5387, 0.8932, 0.6182, 0.6183, 0.6576, 0.0949, 0.8510, 0.9923, 0.6272],\n",
       "        [0.8200, 0.5368, 0.9764, 0.5019, 0.5362, 0.3209, 0.9424, 0.6617, 0.4123],\n",
       "        [0.8307, 0.7699, 0.8107, 0.2042, 0.6241, 0.0273, 0.7602, 0.3549, 0.9588]])"
      ]
     },
     "execution_count": 21,
     "metadata": {},
     "output_type": "execute_result"
    }
   ],
   "source": [
    "data.view(3,9)"
   ]
  },
  {
   "cell_type": "code",
   "execution_count": 22,
   "id": "8cd4c0f3",
   "metadata": {},
   "outputs": [
    {
     "data": {
      "text/plain": [
       "tensor([[0.5387, 0.8932, 0.6182, 0.6183, 0.6576, 0.0949, 0.8510, 0.9923, 0.6272],\n",
       "        [0.8200, 0.5368, 0.9764, 0.5019, 0.5362, 0.3209, 0.9424, 0.6617, 0.4123],\n",
       "        [0.8307, 0.7699, 0.8107, 0.2042, 0.6241, 0.0273, 0.7602, 0.3549, 0.9588]])"
      ]
     },
     "execution_count": 22,
     "metadata": {},
     "output_type": "execute_result"
    }
   ],
   "source": [
    "data.view(3,-1)"
   ]
  },
  {
   "cell_type": "code",
   "execution_count": 23,
   "id": "ea0abfc4",
   "metadata": {},
   "outputs": [
    {
     "data": {
      "text/plain": [
       "tensor([[0.5387, 0.8932, 0.6182],\n",
       "        [0.6183, 0.6576, 0.0949],\n",
       "        [0.8510, 0.9923, 0.6272],\n",
       "        [0.8200, 0.5368, 0.9764],\n",
       "        [0.5019, 0.5362, 0.3209],\n",
       "        [0.9424, 0.6617, 0.4123],\n",
       "        [0.8307, 0.7699, 0.8107],\n",
       "        [0.2042, 0.6241, 0.0273],\n",
       "        [0.7602, 0.3549, 0.9588]])"
      ]
     },
     "execution_count": 23,
     "metadata": {},
     "output_type": "execute_result"
    }
   ],
   "source": [
    "data.view(9,-1)"
   ]
  },
  {
   "cell_type": "code",
   "execution_count": 24,
   "id": "f1f07259",
   "metadata": {},
   "outputs": [
    {
     "data": {
      "text/plain": [
       "tensor([0.5387, 0.8932, 0.6182, 0.6183, 0.6576, 0.0949, 0.8510, 0.9923, 0.6272,\n",
       "        0.8200, 0.5368, 0.9764, 0.5019, 0.5362, 0.3209, 0.9424, 0.6617, 0.4123,\n",
       "        0.8307, 0.7699, 0.8107, 0.2042, 0.6241, 0.0273, 0.7602, 0.3549, 0.9588])"
      ]
     },
     "execution_count": 24,
     "metadata": {},
     "output_type": "execute_result"
    }
   ],
   "source": [
    "data.view(-1)"
   ]
  },
  {
   "cell_type": "code",
   "execution_count": 25,
   "id": "7fc8cbd9",
   "metadata": {},
   "outputs": [
    {
     "data": {
      "text/plain": [
       "torch.Size([3, 3, 3])"
      ]
     },
     "execution_count": 25,
     "metadata": {},
     "output_type": "execute_result"
    }
   ],
   "source": [
    "data.shape"
   ]
  },
  {
   "cell_type": "code",
   "execution_count": 26,
   "id": "beee7f69",
   "metadata": {},
   "outputs": [
    {
     "data": {
      "text/plain": [
       "3"
      ]
     },
     "execution_count": 26,
     "metadata": {},
     "output_type": "execute_result"
    }
   ],
   "source": [
    "data.dim()"
   ]
  },
  {
   "cell_type": "code",
   "execution_count": 27,
   "id": "bd6ebdfa",
   "metadata": {},
   "outputs": [
    {
     "data": {
      "text/plain": [
       "torch.float32"
      ]
     },
     "execution_count": 27,
     "metadata": {},
     "output_type": "execute_result"
    }
   ],
   "source": [
    "data.dtype"
   ]
  },
  {
   "cell_type": "code",
   "execution_count": 28,
   "id": "40503e15",
   "metadata": {},
   "outputs": [
    {
     "data": {
      "text/plain": [
       "True"
      ]
     },
     "execution_count": 28,
     "metadata": {},
     "output_type": "execute_result"
    }
   ],
   "source": [
    "# 쿠다를 쓸 수 있는지 확인\n",
    "torch.cuda.is_available()"
   ]
  },
  {
   "cell_type": "code",
   "execution_count": 29,
   "id": "da9c97c5",
   "metadata": {},
   "outputs": [
    {
     "data": {
      "text/plain": [
       "1"
      ]
     },
     "execution_count": 29,
     "metadata": {},
     "output_type": "execute_result"
    }
   ],
   "source": [
    "# cuda GPU 장치 개수\n",
    "torch.cuda.device_count()"
   ]
  },
  {
   "cell_type": "code",
   "execution_count": 30,
   "id": "346ba63c",
   "metadata": {},
   "outputs": [
    {
     "data": {
      "text/plain": [
       "'NVIDIA GeForce RTX 4070 Laptop GPU'"
      ]
     },
     "execution_count": 30,
     "metadata": {},
     "output_type": "execute_result"
    }
   ],
   "source": [
    "torch.cuda.get_device_name(0)"
   ]
  },
  {
   "cell_type": "code",
   "execution_count": 31,
   "id": "e2888420",
   "metadata": {},
   "outputs": [
    {
     "data": {
      "text/plain": [
       "device(type='cuda', index=1)"
      ]
     },
     "execution_count": 31,
     "metadata": {},
     "output_type": "execute_result"
    }
   ],
   "source": [
    "device = torch.device(\"cuda:1\")\n",
    "device"
   ]
  },
  {
   "cell_type": "code",
   "execution_count": 32,
   "id": "267b1628",
   "metadata": {},
   "outputs": [
    {
     "data": {
      "text/plain": [
       "tensor([1, 2, 3])"
      ]
     },
     "execution_count": 32,
     "metadata": {},
     "output_type": "execute_result"
    }
   ],
   "source": [
    "# 현재 데이터는 CPU 메모리에 있다.\n",
    "data = torch.tensor([1,2,3])\n",
    "data"
   ]
  },
  {
   "cell_type": "code",
   "execution_count": 33,
   "id": "f993ad38",
   "metadata": {},
   "outputs": [
    {
     "data": {
      "text/plain": [
       "tensor([1, 2, 3], device='cuda:0')"
      ]
     },
     "execution_count": 33,
     "metadata": {},
     "output_type": "execute_result"
    }
   ],
   "source": [
    "# 데이터를 GPU로 옮기는 방법 1\n",
    "data.to(\"cuda\")"
   ]
  },
  {
   "cell_type": "code",
   "execution_count": 34,
   "id": "425c0aa3",
   "metadata": {},
   "outputs": [
    {
     "data": {
      "text/plain": [
       "tensor([1, 2, 3], device='cuda:0')"
      ]
     },
     "execution_count": 34,
     "metadata": {},
     "output_type": "execute_result"
    }
   ],
   "source": [
    "# 데이터를 GPU로 옮기는 방법 2\n",
    "data1 = torch.tensor([1,2,3]).cuda()\n",
    "data1"
   ]
  },
  {
   "cell_type": "code",
   "execution_count": 35,
   "id": "b8f094a4",
   "metadata": {},
   "outputs": [
    {
     "data": {
      "text/plain": [
       "tensor([1, 2, 3])"
      ]
     },
     "execution_count": 35,
     "metadata": {},
     "output_type": "execute_result"
    }
   ],
   "source": [
    "# GPU 메모리에서 CPU 메모리로 바꾸는 방법\n",
    "data1.to('cpu')"
   ]
  },
  {
   "cell_type": "code",
   "execution_count": 36,
   "id": "8cecdbe7",
   "metadata": {},
   "outputs": [
    {
     "data": {
      "text/plain": [
       "tensor([1, 2, 3])"
      ]
     },
     "execution_count": 36,
     "metadata": {},
     "output_type": "execute_result"
    }
   ],
   "source": [
    "data"
   ]
  },
  {
   "cell_type": "code",
   "execution_count": 37,
   "id": "446e37ad",
   "metadata": {},
   "outputs": [
    {
     "data": {
      "text/plain": [
       "tensor([1, 2, 3], device='cuda:0')"
      ]
     },
     "execution_count": 37,
     "metadata": {},
     "output_type": "execute_result"
    }
   ],
   "source": [
    "data1"
   ]
  },
  {
   "cell_type": "code",
   "execution_count": 38,
   "id": "24684a5b",
   "metadata": {},
   "outputs": [
    {
     "data": {
      "text/plain": [
       "tensor([2, 4, 6], device='cuda:0')"
      ]
     },
     "execution_count": 38,
     "metadata": {},
     "output_type": "execute_result"
    }
   ],
   "source": [
    "# CPU 였던 data를 GPU로 바꿔줘서 더하기를 가능하게 했다.\n",
    "data = data.to(\"cuda\")\n",
    "data + data1"
   ]
  },
  {
   "cell_type": "code",
   "execution_count": 39,
   "id": "b89b0b06",
   "metadata": {},
   "outputs": [
    {
     "data": {
      "text/plain": [
       "tensor([2, 4, 6], device='cuda:0')"
      ]
     },
     "execution_count": 39,
     "metadata": {},
     "output_type": "execute_result"
    }
   ],
   "source": [
    "data + data1"
   ]
  },
  {
   "cell_type": "code",
   "execution_count": 40,
   "id": "b0244ffa",
   "metadata": {},
   "outputs": [
    {
     "data": {
      "text/plain": [
       "tensor([1, 4, 9], device='cuda:0')"
      ]
     },
     "execution_count": 40,
     "metadata": {},
     "output_type": "execute_result"
    }
   ],
   "source": [
    "data * data1"
   ]
  },
  {
   "cell_type": "code",
   "execution_count": 41,
   "id": "68a3e113",
   "metadata": {},
   "outputs": [
    {
     "data": {
      "text/plain": [
       "tensor([1., 1., 1.], device='cuda:0')"
      ]
     },
     "execution_count": 41,
     "metadata": {},
     "output_type": "execute_result"
    }
   ],
   "source": [
    "data / data1"
   ]
  },
  {
   "cell_type": "code",
   "execution_count": 42,
   "id": "3cedc6b7",
   "metadata": {},
   "outputs": [
    {
     "data": {
      "text/plain": [
       "tensor([[1, 2, 3],\n",
       "        [4, 5, 6]])"
      ]
     },
     "execution_count": 42,
     "metadata": {},
     "output_type": "execute_result"
    }
   ],
   "source": [
    "data = torch.tensor([[1,2,3],[4,5,6]])\n",
    "data"
   ]
  },
  {
   "cell_type": "code",
   "execution_count": 43,
   "id": "213e88e6",
   "metadata": {},
   "outputs": [
    {
     "data": {
      "text/plain": [
       "tensor(1)"
      ]
     },
     "execution_count": 43,
     "metadata": {},
     "output_type": "execute_result"
    }
   ],
   "source": [
    "data.min()"
   ]
  },
  {
   "cell_type": "code",
   "execution_count": 44,
   "id": "17c1135a",
   "metadata": {},
   "outputs": [
    {
     "data": {
      "text/plain": [
       "torch.return_types.min(\n",
       "values=tensor([1, 2, 3]),\n",
       "indices=tensor([0, 0, 0]))"
      ]
     },
     "execution_count": 44,
     "metadata": {},
     "output_type": "execute_result"
    }
   ],
   "source": [
    "data.min(dim=0)"
   ]
  },
  {
   "cell_type": "code",
   "execution_count": 45,
   "id": "39ed2c31",
   "metadata": {},
   "outputs": [
    {
     "data": {
      "text/plain": [
       "torch.return_types.min(\n",
       "values=tensor([1, 4]),\n",
       "indices=tensor([0, 0]))"
      ]
     },
     "execution_count": 45,
     "metadata": {},
     "output_type": "execute_result"
    }
   ],
   "source": [
    "data.min(dim=1)"
   ]
  },
  {
   "cell_type": "code",
   "execution_count": 46,
   "id": "d22e1feb",
   "metadata": {},
   "outputs": [
    {
     "data": {
      "text/plain": [
       "tensor(6)"
      ]
     },
     "execution_count": 46,
     "metadata": {},
     "output_type": "execute_result"
    }
   ],
   "source": [
    "data.max()"
   ]
  },
  {
   "cell_type": "code",
   "execution_count": 47,
   "id": "2782aefc",
   "metadata": {},
   "outputs": [
    {
     "data": {
      "text/plain": [
       "torch.return_types.max(\n",
       "values=tensor([4, 5, 6]),\n",
       "indices=tensor([1, 1, 1]))"
      ]
     },
     "execution_count": 47,
     "metadata": {},
     "output_type": "execute_result"
    }
   ],
   "source": [
    "data .max(dim=0)"
   ]
  },
  {
   "cell_type": "code",
   "execution_count": 48,
   "id": "4e111751",
   "metadata": {},
   "outputs": [
    {
     "data": {
      "text/plain": [
       "torch.return_types.max(\n",
       "values=tensor([3, 6]),\n",
       "indices=tensor([2, 2]))"
      ]
     },
     "execution_count": 48,
     "metadata": {},
     "output_type": "execute_result"
    }
   ],
   "source": [
    "data .max(dim=1)"
   ]
  },
  {
   "cell_type": "code",
   "execution_count": 49,
   "id": "2310c680",
   "metadata": {},
   "outputs": [
    {
     "data": {
      "text/plain": [
       "tensor([[1, 2, 3],\n",
       "        [4, 5, 6]])"
      ]
     },
     "execution_count": 49,
     "metadata": {},
     "output_type": "execute_result"
    }
   ],
   "source": [
    "data"
   ]
  },
  {
   "cell_type": "code",
   "execution_count": 50,
   "id": "659654e5",
   "metadata": {},
   "outputs": [
    {
     "data": {
      "text/plain": [
       "torch.int64"
      ]
     },
     "execution_count": 50,
     "metadata": {},
     "output_type": "execute_result"
    }
   ],
   "source": [
    "data.dtype"
   ]
  },
  {
   "cell_type": "code",
   "execution_count": 51,
   "id": "e6e11a28",
   "metadata": {},
   "outputs": [
    {
     "data": {
      "text/plain": [
       "tensor([[1., 2., 3.],\n",
       "        [4., 5., 6.]])"
      ]
     },
     "execution_count": 51,
     "metadata": {},
     "output_type": "execute_result"
    }
   ],
   "source": [
    "# 데이터 타입 바꿔주는 방법\n",
    "data = data.type(torch.float)\n",
    "data"
   ]
  },
  {
   "cell_type": "code",
   "execution_count": 52,
   "id": "8890d976",
   "metadata": {},
   "outputs": [
    {
     "data": {
      "text/plain": [
       "torch.float32"
      ]
     },
     "execution_count": 52,
     "metadata": {},
     "output_type": "execute_result"
    }
   ],
   "source": [
    "data.dtype"
   ]
  },
  {
   "cell_type": "code",
   "execution_count": 53,
   "id": "8b287672",
   "metadata": {},
   "outputs": [
    {
     "data": {
      "text/plain": [
       "tensor(3.5000)"
      ]
     },
     "execution_count": 53,
     "metadata": {},
     "output_type": "execute_result"
    }
   ],
   "source": [
    "data.mean()"
   ]
  },
  {
   "cell_type": "code",
   "execution_count": 54,
   "id": "0fd501ee",
   "metadata": {},
   "outputs": [
    {
     "data": {
      "text/plain": [
       "4"
      ]
     },
     "execution_count": 54,
     "metadata": {},
     "output_type": "execute_result"
    }
   ],
   "source": [
    "image = torch.rand(3,128,128)\n",
    "image = image.view(1,3,128,128)\n",
    "image.dim()"
   ]
  },
  {
   "cell_type": "markdown",
   "id": "0afc5aef",
   "metadata": {},
   "source": [
    "- 원래 텐서 shape가 (3, 128, 128)일 때:\n",
    "    - `unsqueeze(dim=0)` → (1, 3, 128, 128) (맨 앞에 1차원 추가)\n",
    "    - `unsqueeze(dim=1)` → (3, 1, 128, 128) (두 번째 차원 위치에 1차원 추가)\n",
    "\n",
    "- `squeeze()` ->  크기가 1인 차원(축)을 제거\n",
    "\n",
    "- `unsqueeze()` 와 `view(new_shape)`의 차이:\n",
    "    - `unsqueeze(dim)`:\n",
    "        - 역할: 특정 위치에 크기 1인 차원 하나 추가\n",
    "        - 차원 수 변화: 차원 수가 +1 (하나 늘어남)\n",
    "        - 사용 목적: 배치 차원 추가, 차원 맞춤 등 간단한 차원 추가\n",
    "        - 제약사항: 없음 (어디든 크기 1 차원 추가 가능)\n",
    "\n",
    "    - `view(new_shape)`:\n",
    "        - 역할: 텐서의 전체 차원 형태를 새로운 모양으로 재구성\n",
    "        - 차원 수 변화: 차원 수는 변할 수 있으나, 요소 개수는 동일해야 함\n",
    "        - 사용 목적: 텐서를 원하는 모양으로 리쉐이핑 (예: (4,3) → (2,6))\n",
    "        - 제약사항: 전체 원소 개수는 변하지 않아야 함"
   ]
  },
  {
   "cell_type": "code",
   "execution_count": 55,
   "id": "ca996bd3",
   "metadata": {},
   "outputs": [
    {
     "data": {
      "text/plain": [
       "torch.Size([1, 3, 128, 128])"
      ]
     },
     "execution_count": 55,
     "metadata": {},
     "output_type": "execute_result"
    }
   ],
   "source": [
    "image = torch.rand(3,128,128)\n",
    "image = image.unsqueeze(dim=0) # 새로운 차원을 만들어 준다.\n",
    "image.shape"
   ]
  },
  {
   "cell_type": "code",
   "execution_count": 56,
   "id": "b9584d6f",
   "metadata": {},
   "outputs": [
    {
     "data": {
      "text/plain": [
       "torch.Size([1, 3, 128, 128])"
      ]
     },
     "execution_count": 56,
     "metadata": {},
     "output_type": "execute_result"
    }
   ],
   "source": [
    "image.shape"
   ]
  },
  {
   "cell_type": "code",
   "execution_count": 57,
   "id": "395fdd97",
   "metadata": {},
   "outputs": [
    {
     "data": {
      "text/plain": [
       "torch.Size([128, 128])"
      ]
     },
     "execution_count": 57,
     "metadata": {},
     "output_type": "execute_result"
    }
   ],
   "source": [
    "data = torch.rand(1,128,128)\n",
    "data = data.squeeze() # 아무 의미없는 특징,차원을 제거\n",
    "data.shape"
   ]
  }
 ],
 "metadata": {
  "kernelspec": {
   "display_name": "08-deep-learning",
   "language": "python",
   "name": "python3"
  },
  "language_info": {
   "codemirror_mode": {
    "name": "ipython",
    "version": 3
   },
   "file_extension": ".py",
   "mimetype": "text/x-python",
   "name": "python",
   "nbconvert_exporter": "python",
   "pygments_lexer": "ipython3",
   "version": "3.13.5"
  }
 },
 "nbformat": 4,
 "nbformat_minor": 5
}
