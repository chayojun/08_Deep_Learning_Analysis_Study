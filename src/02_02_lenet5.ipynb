{
 "cells": [
  {
   "cell_type": "code",
   "execution_count": 13,
   "id": "2ec1e81c",
   "metadata": {},
   "outputs": [],
   "source": [
    "import torch\n",
    "import torch.nn as nn\n",
    "import torch.nn.functional as F\n",
    "from torch.optim import Adam\n",
    "from torchvision import datasets\n",
    "import torchvision.transforms as transforms\n",
    "from tensorboardX import SummaryWriter\n"
   ]
  },
  {
   "cell_type": "code",
   "execution_count": 14,
   "id": "476430ac",
   "metadata": {},
   "outputs": [],
   "source": [
    "data_transform = transforms.Compose(\n",
    "    [\n",
    "        transforms.ToTensor(),\n",
    "        transforms.Resize(32),\n",
    "        transforms.Normalize((0.5),(1.0))\n",
    "    ]\n",
    ")\n",
    "\n",
    "train_data = datasets.MNIST(root='./',train=True,download=True,transform=data_transform)\n",
    "test_data = datasets.MNIST(root='./',train=False,download=True,transform=data_transform)"
   ]
  },
  {
   "cell_type": "code",
   "execution_count": 15,
   "id": "8cf0bd74",
   "metadata": {},
   "outputs": [],
   "source": [
    "from torch.utils.data import DataLoader\n",
    "\n",
    "train_loader = DataLoader(train_data, batch_size=32, shuffle=True)\n",
    "test_loader = DataLoader(test_data, batch_size=32)"
   ]
  },
  {
   "cell_type": "code",
   "execution_count": 16,
   "id": "8ce72e32",
   "metadata": {},
   "outputs": [
    {
     "name": "stdout",
     "output_type": "stream",
     "text": [
      "torch.Size([32, 1, 32, 32])\n"
     ]
    }
   ],
   "source": [
    "data, label = next(iter(train_loader))\n",
    "print(data.shape)"
   ]
  },
  {
   "cell_type": "code",
   "execution_count": 20,
   "id": "50fcc658",
   "metadata": {},
   "outputs": [
    {
     "data": {
      "text/plain": [
       "Lenet(\n",
       "  (conv1): Conv2d(1, 6, kernel_size=(5, 5), stride=(1, 1))\n",
       "  (conv2): Conv2d(6, 16, kernel_size=(5, 5), stride=(1, 1))\n",
       "  (conv3): Conv2d(16, 120, kernel_size=(5, 5), stride=(1, 1))\n",
       "  (fc1): Linear(in_features=120, out_features=84, bias=True)\n",
       "  (fc2): Linear(in_features=84, out_features=10, bias=True)\n",
       ")"
      ]
     },
     "execution_count": 20,
     "metadata": {},
     "output_type": "execute_result"
    }
   ],
   "source": [
    "# pytorch의 이미지 만드는 모델\n",
    "class Lenet(nn.Module):\n",
    "    def __init__(self): # 가장 먼저 실행되는 함수\n",
    "        super(Lenet, self).__init__()\n",
    "        self.conv1 = nn.Conv2d(in_channels=1, out_channels=6,kernel_size=5,stride=1) # Convolution Layer\n",
    "        self.conv2 = nn.Conv2d(in_channels=6, out_channels=16,kernel_size=5,stride=1)\n",
    "        self.conv3 = nn.Conv2d(in_channels=16, out_channels=120,kernel_size=5,stride=1)\n",
    "        # Full connection 은 nn.Linear 로 생각 하면 된다\n",
    "        self.fc1 = nn.Linear(in_features=120, out_features=84)\n",
    "        self.fc2 = nn.Linear(in_features=84, out_features=10)\n",
    "\n",
    "    def forward(self, x): # x 는 이미지\n",
    "        x = self.conv1(x) # Convolution Layer 집어넣으니 1채널이 6채널이 됐다 (항상 매트릭스 형태를 띄움)\n",
    "        x = F.tanh(x) # 활성화함수 집어넣고 -> 6, 28, 28\n",
    "        x = F.max_pool2d(x,2,2) # max_pool2d -> 6, 14, 14\n",
    "\n",
    "        x = self.conv2(x) \n",
    "        x = F.tanh(x) \n",
    "        x = F.max_pool2d(x,2,2) \n",
    "\n",
    "        x = self.conv3(x) \n",
    "        x = F.tanh(x)\n",
    "        x = x.view(-1, 120) # 매트릭스를 1차원으로 펴기\n",
    "\n",
    "        x = self.fc1(x)\n",
    "        x = F.tanh(x) # 84\n",
    "\n",
    "        x = self.fc2(x)\n",
    "        x = F.tanh(x) # 10\n",
    "\n",
    "        return x\n",
    "\n",
    "model = Lenet()\n",
    "model\n"
   ]
  },
  {
   "cell_type": "code",
   "execution_count": 21,
   "id": "26f1072b",
   "metadata": {},
   "outputs": [
    {
     "name": "stdout",
     "output_type": "stream",
     "text": [
      "=================================================================\n",
      "Layer (type:depth-idx)                   Param #\n",
      "=================================================================\n",
      "├─Conv2d: 1-1                            156\n",
      "├─Conv2d: 1-2                            2,416\n",
      "├─Conv2d: 1-3                            48,120\n",
      "├─Linear: 1-4                            10,164\n",
      "├─Linear: 1-5                            850\n",
      "=================================================================\n",
      "Total params: 61,706\n",
      "Trainable params: 61,706\n",
      "Non-trainable params: 0\n",
      "=================================================================\n"
     ]
    },
    {
     "data": {
      "text/plain": [
       "=================================================================\n",
       "Layer (type:depth-idx)                   Param #\n",
       "=================================================================\n",
       "├─Conv2d: 1-1                            156\n",
       "├─Conv2d: 1-2                            2,416\n",
       "├─Conv2d: 1-3                            48,120\n",
       "├─Linear: 1-4                            10,164\n",
       "├─Linear: 1-5                            850\n",
       "=================================================================\n",
       "Total params: 61,706\n",
       "Trainable params: 61,706\n",
       "Non-trainable params: 0\n",
       "================================================================="
      ]
     },
     "execution_count": 21,
     "metadata": {},
     "output_type": "execute_result"
    }
   ],
   "source": [
    "from torchsummary import summary\n",
    "\n",
    "summary(model,input_szie=(1,32,32))"
   ]
  },
  {
   "cell_type": "code",
   "execution_count": 22,
   "id": "1b13b7ff",
   "metadata": {},
   "outputs": [
    {
     "name": "stdout",
     "output_type": "stream",
     "text": [
      "1 loss : 0.8550175428390503\n",
      "2 loss : 0.8170366287231445\n",
      "3 loss : 0.8354312777519226\n",
      "4 loss : 0.8667051792144775\n",
      "5 loss : 0.8085789680480957\n",
      "6 loss : 0.8307420015335083\n",
      "7 loss : 0.8051958084106445\n",
      "8 loss : 0.880725622177124\n",
      "9 loss : 0.7966451048851013\n",
      "10 loss : 0.796942949295044\n"
     ]
    }
   ],
   "source": [
    "lr = 1e-3\n",
    "optim = Adam(model.parameters(), lr=lr)\n",
    "epochs = 10\n",
    "criterion = nn.CrossEntropyLoss()\n",
    "\n",
    "device = 'cuda' if torch.cuda.is_available() else 'cpu'\n",
    "model.to(device)\n",
    "\n",
    "writer = SummaryWriter()\n",
    "\n",
    "step = 0\n",
    "for epoch in range(epochs):\n",
    "    for data,label in train_loader:\n",
    "        optim.zero_grad()\n",
    "        pred = model(data.to(device))  #[32,1,32,32]\n",
    "        loss = criterion(pred,label.to(device))\n",
    "        writer.add_scalar('Loss/train',loss,step)\n",
    "        step += 1\n",
    "\n",
    "        loss.backward()\n",
    "        optim.step()\n",
    "\n",
    "    print(f'{epoch+1} loss : {loss.item()}')\n"
   ]
  },
  {
   "cell_type": "code",
   "execution_count": null,
   "id": "7d598e71",
   "metadata": {},
   "outputs": [],
   "source": [
    "# 1. 모델 평가코드 작성\n",
    "# 2. png이미지를 불러온다.\n",
    "# 3. 이미지를 학습할때와 같이 전처리 한다.\n",
    "# 4. 모델에 넣고 추론한다.\n",
    "# 답: [-1, -1, -1, -1, 1, 34, , , , ,] 이런식으로 답이 나온다."
   ]
  }
 ],
 "metadata": {
  "kernelspec": {
   "display_name": "08-deep-learning",
   "language": "python",
   "name": "python3"
  },
  "language_info": {
   "codemirror_mode": {
    "name": "ipython",
    "version": 3
   },
   "file_extension": ".py",
   "mimetype": "text/x-python",
   "name": "python",
   "nbconvert_exporter": "python",
   "pygments_lexer": "ipython3",
   "version": "3.13.5"
  }
 },
 "nbformat": 4,
 "nbformat_minor": 5
}
