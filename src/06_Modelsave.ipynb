{
 "cells": [
  {
   "cell_type": "code",
   "execution_count": 1,
   "id": "d7142132",
   "metadata": {},
   "outputs": [],
   "source": [
    "import torch\n",
    "import torch.nn as nn"
   ]
  },
  {
   "cell_type": "markdown",
   "id": "f0462600",
   "metadata": {},
   "source": [
    "# 1. 가중치(state_dict)만 저장하는 방법"
   ]
  },
  {
   "cell_type": "code",
   "execution_count": null,
   "id": "18ab4308",
   "metadata": {},
   "outputs": [],
   "source": [
    "class SimpleModel(nn.Module):\n",
    "    def __init__(self):\n",
    "        super(SimpleModel, self).__init__()\n",
    "        self.fc = nn.Linear(10,2)\n",
    "\n",
    "    def forward(self,x):\n",
    "        return self.fc(x)\n",
    "    \n",
    "model = SimpleModel()\n",
    "\n",
    "# 학습 후 (가정)\n",
    "\n",
    "torch.save(model.state_dict(), 'model_weight.pth')  # 기억하기 좋은 모델 이름으로 저장하기  'model_weight.pth' 이부분"
   ]
  },
  {
   "cell_type": "markdown",
   "id": "34d50258",
   "metadata": {},
   "source": [
    "# 2. 모델 전체를 저장하는 방법"
   ]
  },
  {
   "cell_type": "code",
   "execution_count": 5,
   "id": "9294f466",
   "metadata": {},
   "outputs": [],
   "source": [
    "class SimpleModel(nn.Module):\n",
    "    def __init__(self):\n",
    "        super(SimpleModel, self).__init__()\n",
    "        self.fc = nn.Linear(10,2)\n",
    "\n",
    "    def forward(self,x):\n",
    "        return self.fc(x)\n",
    "    \n",
    "model = SimpleModel()\n",
    "\n",
    "torch.save(model, 'SimpleModel_full.pth')"
   ]
  }
 ],
 "metadata": {
  "kernelspec": {
   "display_name": "08_Deep_Learning_Analysis_Study",
   "language": "python",
   "name": "python3"
  },
  "language_info": {
   "codemirror_mode": {
    "name": "ipython",
    "version": 3
   },
   "file_extension": ".py",
   "mimetype": "text/x-python",
   "name": "python",
   "nbconvert_exporter": "python",
   "pygments_lexer": "ipython3",
   "version": "3.11.13"
  }
 },
 "nbformat": 4,
 "nbformat_minor": 5
}
