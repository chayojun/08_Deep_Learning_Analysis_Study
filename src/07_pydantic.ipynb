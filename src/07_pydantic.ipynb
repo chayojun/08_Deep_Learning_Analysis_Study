{
 "cells": [
  {
   "cell_type": "code",
   "execution_count": null,
   "id": "7efb5a36",
   "metadata": {},
   "outputs": [
    {
     "data": {
      "text/plain": [
       "User(id=1234, name='홍길동', age=30, is_active=True)"
      ]
     },
     "execution_count": 4,
     "metadata": {},
     "output_type": "execute_result"
    }
   ],
   "source": [
    "from pydantic import BaseModel\n",
    "\n",
    "class User(BaseModel):\n",
    "    id: int\n",
    "    name: str\n",
    "    age: int\n",
    "    is_active: bool = True\n",
    "\n",
    "user1 = User(id=\"1234\", name=\"홍길동\", age=30) # id에 문자열을 넣어도 int로 자동 변환해준다.\n",
    "user1"
   ]
  },
  {
   "cell_type": "code",
   "execution_count": null,
   "id": "27b32183",
   "metadata": {},
   "outputs": [
    {
     "name": "stderr",
     "output_type": "stream",
     "text": [
      "C:\\Users\\user\\AppData\\Local\\Temp\\ipykernel_29232\\34653887.py:1: PydanticDeprecatedSince20: The `json` method is deprecated; use `model_dump_json` instead. Deprecated in Pydantic V2.0 to be removed in V3.0. See Pydantic V2 Migration Guide at https://errors.pydantic.dev/2.11/migration/\n",
      "  user1.json()\n"
     ]
    },
    {
     "data": {
      "text/plain": [
       "'{\"id\":1234,\"name\":\"홍길동\",\"age\":30,\"is_active\":true}'"
      ]
     },
     "execution_count": 5,
     "metadata": {},
     "output_type": "execute_result"
    }
   ],
   "source": [
    "# 문자열로 되어 있기 때문에 딕셔러리가 아니다.\n",
    "# 제이슨을 사용할 때는 작은 따음표는 사용할 수 없고 큰 따음표만 사용하여야 한다.\n",
    "user1.json() "
   ]
  }
 ],
 "metadata": {
  "kernelspec": {
   "display_name": "08_Deep_Learning_Analysis_Study",
   "language": "python",
   "name": "python3"
  },
  "language_info": {
   "codemirror_mode": {
    "name": "ipython",
    "version": 3
   },
   "file_extension": ".py",
   "mimetype": "text/x-python",
   "name": "python",
   "nbconvert_exporter": "python",
   "pygments_lexer": "ipython3",
   "version": "3.11.13"
  }
 },
 "nbformat": 4,
 "nbformat_minor": 5
}
